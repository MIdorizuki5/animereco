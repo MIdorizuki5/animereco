{
 "cells": [
  {
   "cell_type": "code",
   "execution_count": 1,
   "metadata": {},
   "outputs": [],
   "source": [
    "from surprise import KNNBasic\n",
    "from surprise import Dataset\n",
    "from surprise import Reader\n",
    "from surprise import Trainset\n",
    "\n",
    "from collections import defaultdict\n",
    "from operator import itemgetter\n",
    "import heapq\n",
    "\n",
    "import os\n",
    "import csv\n",
    "\n",
    "import pandas as pd"
   ]
  },
  {
   "attachments": {},
   "cell_type": "markdown",
   "metadata": {},
   "source": [
    "# Import CSV "
   ]
  },
  {
   "cell_type": "code",
   "execution_count": 2,
   "metadata": {},
   "outputs": [],
   "source": [
    "# UsersDF = pd.read_csv('../raw_data/users_cleaned.csv')\n",
    "# AnimesDF = pd.read_csv('../raw_data/anime_cleaned.csv')\n",
    "ScoresDF = pd.read_csv('../raw_data/animelists_cleaned.csv')"
   ]
  },
  {
   "cell_type": "code",
   "execution_count": 3,
   "metadata": {},
   "outputs": [
    {
     "data": {
      "text/plain": [
       "(31284030, 11)"
      ]
     },
     "execution_count": 3,
     "metadata": {},
     "output_type": "execute_result"
    }
   ],
   "source": [
    "ScoresDF.shape"
   ]
  },
  {
   "cell_type": "code",
   "execution_count": 4,
   "metadata": {},
   "outputs": [],
   "source": [
    "AnimesDF = pd.read_csv('../raw_data/anime_cleaned.csv')"
   ]
  },
  {
   "cell_type": "code",
   "execution_count": 24,
   "metadata": {},
   "outputs": [
    {
     "data": {
      "text/html": [
       "<div>\n",
       "<style scoped>\n",
       "    .dataframe tbody tr th:only-of-type {\n",
       "        vertical-align: middle;\n",
       "    }\n",
       "\n",
       "    .dataframe tbody tr th {\n",
       "        vertical-align: top;\n",
       "    }\n",
       "\n",
       "    .dataframe thead th {\n",
       "        text-align: right;\n",
       "    }\n",
       "</style>\n",
       "<table border=\"1\" class=\"dataframe\">\n",
       "  <thead>\n",
       "    <tr style=\"text-align: right;\">\n",
       "      <th></th>\n",
       "      <th>anime_id</th>\n",
       "      <th>title</th>\n",
       "      <th>title_english</th>\n",
       "      <th>title_japanese</th>\n",
       "      <th>title_synonyms</th>\n",
       "      <th>image_url</th>\n",
       "      <th>type</th>\n",
       "      <th>source</th>\n",
       "      <th>episodes</th>\n",
       "      <th>status</th>\n",
       "      <th>...</th>\n",
       "      <th>broadcast</th>\n",
       "      <th>related</th>\n",
       "      <th>producer</th>\n",
       "      <th>licensor</th>\n",
       "      <th>studio</th>\n",
       "      <th>genre</th>\n",
       "      <th>opening_theme</th>\n",
       "      <th>ending_theme</th>\n",
       "      <th>duration_min</th>\n",
       "      <th>aired_from_year</th>\n",
       "    </tr>\n",
       "  </thead>\n",
       "  <tbody>\n",
       "    <tr>\n",
       "      <th>1366</th>\n",
       "      <td>4181</td>\n",
       "      <td>Clannad: After Story</td>\n",
       "      <td>Clannad ~After Story~</td>\n",
       "      <td>CLANNAD〜AFTER STORY〜 クラナド アフターストーリー</td>\n",
       "      <td>NaN</td>\n",
       "      <td>https://myanimelist.cdn-dena.com/images/anime/...</td>\n",
       "      <td>TV</td>\n",
       "      <td>Visual novel</td>\n",
       "      <td>24</td>\n",
       "      <td>Finished Airing</td>\n",
       "      <td>...</td>\n",
       "      <td>Fridays at 01:59 (JST)</td>\n",
       "      <td>{'Alternative version': [{'mal_id': 1723, 'typ...</td>\n",
       "      <td>Pony Canyon, TBS, Rakuonsha, Animation Do</td>\n",
       "      <td>Sentai Filmworks</td>\n",
       "      <td>Kyoto Animation</td>\n",
       "      <td>Slice of Life, Comedy, Supernatural, Drama, Ro...</td>\n",
       "      <td>['\"Toki wo Kizamu Uta (時を刻む唄)\" by Lia']</td>\n",
       "      <td>['#1: \"TORCH\" by Lia (eps 1-21)', '#2: \"Chiisa...</td>\n",
       "      <td>24.0</td>\n",
       "      <td>2008.0</td>\n",
       "    </tr>\n",
       "  </tbody>\n",
       "</table>\n",
       "<p>1 rows × 33 columns</p>\n",
       "</div>"
      ],
      "text/plain": [
       "      anime_id                 title          title_english  \\\n",
       "1366      4181  Clannad: After Story  Clannad ~After Story~   \n",
       "\n",
       "                           title_japanese title_synonyms  \\\n",
       "1366  CLANNAD〜AFTER STORY〜 クラナド アフターストーリー            NaN   \n",
       "\n",
       "                                              image_url type        source  \\\n",
       "1366  https://myanimelist.cdn-dena.com/images/anime/...   TV  Visual novel   \n",
       "\n",
       "      episodes           status  ...               broadcast  \\\n",
       "1366        24  Finished Airing  ...  Fridays at 01:59 (JST)   \n",
       "\n",
       "                                                related  \\\n",
       "1366  {'Alternative version': [{'mal_id': 1723, 'typ...   \n",
       "\n",
       "                                       producer          licensor  \\\n",
       "1366  Pony Canyon, TBS, Rakuonsha, Animation Do  Sentai Filmworks   \n",
       "\n",
       "               studio                                              genre  \\\n",
       "1366  Kyoto Animation  Slice of Life, Comedy, Supernatural, Drama, Ro...   \n",
       "\n",
       "                                opening_theme  \\\n",
       "1366  ['\"Toki wo Kizamu Uta (時を刻む唄)\" by Lia']   \n",
       "\n",
       "                                           ending_theme  duration_min  \\\n",
       "1366  ['#1: \"TORCH\" by Lia (eps 1-21)', '#2: \"Chiisa...          24.0   \n",
       "\n",
       "      aired_from_year  \n",
       "1366           2008.0  \n",
       "\n",
       "[1 rows x 33 columns]"
      ]
     },
     "execution_count": 24,
     "metadata": {},
     "output_type": "execute_result"
    }
   ],
   "source": [
    "AnimesDF[AnimesDF[\"title\"]==\"Clannad: After Story\"]"
   ]
  },
  {
   "cell_type": "code",
   "execution_count": 5,
   "metadata": {},
   "outputs": [],
   "source": [
    "score_anime=ScoresDF.merge(AnimesDF,on=\"anime_id\")"
   ]
  },
  {
   "cell_type": "code",
   "execution_count": null,
   "metadata": {},
   "outputs": [],
   "source": [
    "score_anime.describe()"
   ]
  },
  {
   "cell_type": "code",
   "execution_count": 27,
   "metadata": {},
   "outputs": [],
   "source": [
    "df3 = score_anime[score_anime[\"my_score\"]>0][[\"username\",\"anime_id\",\"my_score\",\"title\"]]"
   ]
  },
  {
   "cell_type": "code",
   "execution_count": 30,
   "metadata": {},
   "outputs": [
    {
     "data": {
      "text/html": [
       "<div>\n",
       "<style scoped>\n",
       "    .dataframe tbody tr th:only-of-type {\n",
       "        vertical-align: middle;\n",
       "    }\n",
       "\n",
       "    .dataframe tbody tr th {\n",
       "        vertical-align: top;\n",
       "    }\n",
       "\n",
       "    .dataframe thead th {\n",
       "        text-align: right;\n",
       "    }\n",
       "</style>\n",
       "<table border=\"1\" class=\"dataframe\">\n",
       "  <thead>\n",
       "    <tr style=\"text-align: right;\">\n",
       "      <th></th>\n",
       "      <th>username</th>\n",
       "      <th>anime_id</th>\n",
       "      <th>my_score</th>\n",
       "      <th>title</th>\n",
       "    </tr>\n",
       "  </thead>\n",
       "  <tbody>\n",
       "    <tr>\n",
       "      <th>526</th>\n",
       "      <td>Evilrelena</td>\n",
       "      <td>21</td>\n",
       "      <td>10</td>\n",
       "      <td>One Piece</td>\n",
       "    </tr>\n",
       "    <tr>\n",
       "      <th>45367</th>\n",
       "      <td>Evilrelena</td>\n",
       "      <td>59</td>\n",
       "      <td>7</td>\n",
       "      <td>Chobits</td>\n",
       "    </tr>\n",
       "    <tr>\n",
       "      <th>82535</th>\n",
       "      <td>Evilrelena</td>\n",
       "      <td>74</td>\n",
       "      <td>9</td>\n",
       "      <td>Gakuen Alice</td>\n",
       "    </tr>\n",
       "    <tr>\n",
       "      <th>91080</th>\n",
       "      <td>Evilrelena</td>\n",
       "      <td>120</td>\n",
       "      <td>9</td>\n",
       "      <td>Fruits Basket</td>\n",
       "    </tr>\n",
       "    <tr>\n",
       "      <th>125990</th>\n",
       "      <td>Evilrelena</td>\n",
       "      <td>210</td>\n",
       "      <td>8</td>\n",
       "      <td>Ranma ½</td>\n",
       "    </tr>\n",
       "    <tr>\n",
       "      <th>...</th>\n",
       "      <td>...</td>\n",
       "      <td>...</td>\n",
       "      <td>...</td>\n",
       "      <td>...</td>\n",
       "    </tr>\n",
       "    <tr>\n",
       "      <th>30673776</th>\n",
       "      <td>Evilrelena</td>\n",
       "      <td>537</td>\n",
       "      <td>7</td>\n",
       "      <td>Tekken</td>\n",
       "    </tr>\n",
       "    <tr>\n",
       "      <th>30928252</th>\n",
       "      <td>Evilrelena</td>\n",
       "      <td>234</td>\n",
       "      <td>8</td>\n",
       "      <td>Dan Doh!!</td>\n",
       "    </tr>\n",
       "    <tr>\n",
       "      <th>30951561</th>\n",
       "      <td>Evilrelena</td>\n",
       "      <td>1804</td>\n",
       "      <td>6</td>\n",
       "      <td>Koko wa Green Wood</td>\n",
       "    </tr>\n",
       "    <tr>\n",
       "      <th>31033526</th>\n",
       "      <td>Evilrelena</td>\n",
       "      <td>378</td>\n",
       "      <td>7</td>\n",
       "      <td>eX-Driver the Movie</td>\n",
       "    </tr>\n",
       "    <tr>\n",
       "      <th>31152699</th>\n",
       "      <td>Evilrelena</td>\n",
       "      <td>839</td>\n",
       "      <td>6</td>\n",
       "      <td>Samurai Spirits 2: Asura Zanmaden</td>\n",
       "    </tr>\n",
       "  </tbody>\n",
       "</table>\n",
       "<p>298 rows × 4 columns</p>\n",
       "</div>"
      ],
      "text/plain": [
       "            username  anime_id  my_score                              title\n",
       "526       Evilrelena        21        10                          One Piece\n",
       "45367     Evilrelena        59         7                            Chobits\n",
       "82535     Evilrelena        74         9                       Gakuen Alice\n",
       "91080     Evilrelena       120         9                      Fruits Basket\n",
       "125990    Evilrelena       210         8                            Ranma ½\n",
       "...              ...       ...       ...                                ...\n",
       "30673776  Evilrelena       537         7                             Tekken\n",
       "30928252  Evilrelena       234         8                          Dan Doh!!\n",
       "30951561  Evilrelena      1804         6                 Koko wa Green Wood\n",
       "31033526  Evilrelena       378         7                eX-Driver the Movie\n",
       "31152699  Evilrelena       839         6  Samurai Spirits 2: Asura Zanmaden\n",
       "\n",
       "[298 rows x 4 columns]"
      ]
     },
     "execution_count": 30,
     "metadata": {},
     "output_type": "execute_result"
    }
   ],
   "source": [
    "df3[df3[\"username\"]==\"Evilrelena\"]"
   ]
  },
  {
   "cell_type": "code",
   "execution_count": 6,
   "metadata": {},
   "outputs": [
    {
     "name": "stderr",
     "output_type": "stream",
     "text": [
      "/var/folders/yr/g3l3s88n1fj3tj6803gfpmm80000gn/T/ipykernel_50814/398666508.py:1: UserWarning: Boolean Series key will be reindexed to match DataFrame index.\n",
      "  score_anime_selected = score_anime[score_anime[\"popularity\"]<70][score_anime[\"my_score\"]>0][[\"username\",\"anime_id\",\"my_score\",\"title\"]]\n"
     ]
    }
   ],
   "source": [
    "score_anime_selected = score_anime[score_anime[\"popularity\"]<70][score_anime[\"my_score\"]>0][[\"username\",\"anime_id\",\"my_score\",\"title\"]]"
   ]
  },
  {
   "cell_type": "code",
   "execution_count": 7,
   "metadata": {},
   "outputs": [
    {
     "data": {
      "text/plain": [
       "(2344515, 4)"
      ]
     },
     "execution_count": 7,
     "metadata": {},
     "output_type": "execute_result"
    }
   ],
   "source": [
    "score_anime_selected.shape"
   ]
  },
  {
   "cell_type": "code",
   "execution_count": 12,
   "metadata": {},
   "outputs": [],
   "source": [
    "score_anime_selected.to_csv(\"score_anime_selected.csv\",index=False)"
   ]
  },
  {
   "cell_type": "code",
   "execution_count": 13,
   "metadata": {},
   "outputs": [
    {
     "data": {
      "text/html": [
       "<div>\n",
       "<style scoped>\n",
       "    .dataframe tbody tr th:only-of-type {\n",
       "        vertical-align: middle;\n",
       "    }\n",
       "\n",
       "    .dataframe tbody tr th {\n",
       "        vertical-align: top;\n",
       "    }\n",
       "\n",
       "    .dataframe thead th {\n",
       "        text-align: right;\n",
       "    }\n",
       "</style>\n",
       "<table border=\"1\" class=\"dataframe\">\n",
       "  <thead>\n",
       "    <tr style=\"text-align: right;\">\n",
       "      <th></th>\n",
       "      <th>username</th>\n",
       "      <th>anime_id</th>\n",
       "      <th>my_score</th>\n",
       "      <th>title</th>\n",
       "    </tr>\n",
       "  </thead>\n",
       "  <tbody>\n",
       "    <tr>\n",
       "      <th>0</th>\n",
       "      <td>karthiga</td>\n",
       "      <td>21</td>\n",
       "      <td>9</td>\n",
       "      <td>One Piece</td>\n",
       "    </tr>\n",
       "    <tr>\n",
       "      <th>1</th>\n",
       "      <td>Damonashu</td>\n",
       "      <td>21</td>\n",
       "      <td>10</td>\n",
       "      <td>One Piece</td>\n",
       "    </tr>\n",
       "    <tr>\n",
       "      <th>2</th>\n",
       "      <td>bskai</td>\n",
       "      <td>21</td>\n",
       "      <td>8</td>\n",
       "      <td>One Piece</td>\n",
       "    </tr>\n",
       "    <tr>\n",
       "      <th>3</th>\n",
       "      <td>Slimak</td>\n",
       "      <td>21</td>\n",
       "      <td>10</td>\n",
       "      <td>One Piece</td>\n",
       "    </tr>\n",
       "    <tr>\n",
       "      <th>5</th>\n",
       "      <td>kioniel</td>\n",
       "      <td>21</td>\n",
       "      <td>9</td>\n",
       "      <td>One Piece</td>\n",
       "    </tr>\n",
       "    <tr>\n",
       "      <th>...</th>\n",
       "      <td>...</td>\n",
       "      <td>...</td>\n",
       "      <td>...</td>\n",
       "      <td>...</td>\n",
       "    </tr>\n",
       "    <tr>\n",
       "      <th>19296613</th>\n",
       "      <td>Whirson</td>\n",
       "      <td>28171</td>\n",
       "      <td>8</td>\n",
       "      <td>Shokugeki no Souma</td>\n",
       "    </tr>\n",
       "    <tr>\n",
       "      <th>19296614</th>\n",
       "      <td>Morse56</td>\n",
       "      <td>28171</td>\n",
       "      <td>10</td>\n",
       "      <td>Shokugeki no Souma</td>\n",
       "    </tr>\n",
       "    <tr>\n",
       "      <th>19296615</th>\n",
       "      <td>arya333</td>\n",
       "      <td>28171</td>\n",
       "      <td>8</td>\n",
       "      <td>Shokugeki no Souma</td>\n",
       "    </tr>\n",
       "    <tr>\n",
       "      <th>19296616</th>\n",
       "      <td>jurandyr</td>\n",
       "      <td>28171</td>\n",
       "      <td>8</td>\n",
       "      <td>Shokugeki no Souma</td>\n",
       "    </tr>\n",
       "    <tr>\n",
       "      <th>19296617</th>\n",
       "      <td>Alfian_Kachau</td>\n",
       "      <td>28171</td>\n",
       "      <td>10</td>\n",
       "      <td>Shokugeki no Souma</td>\n",
       "    </tr>\n",
       "  </tbody>\n",
       "</table>\n",
       "<p>2344515 rows × 4 columns</p>\n",
       "</div>"
      ],
      "text/plain": [
       "               username  anime_id  my_score               title\n",
       "0              karthiga        21         9           One Piece\n",
       "1             Damonashu        21        10           One Piece\n",
       "2                 bskai        21         8           One Piece\n",
       "3                Slimak        21        10           One Piece\n",
       "5               kioniel        21         9           One Piece\n",
       "...                 ...       ...       ...                 ...\n",
       "19296613        Whirson     28171         8  Shokugeki no Souma\n",
       "19296614        Morse56     28171        10  Shokugeki no Souma\n",
       "19296615        arya333     28171         8  Shokugeki no Souma\n",
       "19296616       jurandyr     28171         8  Shokugeki no Souma\n",
       "19296617  Alfian_Kachau     28171        10  Shokugeki no Souma\n",
       "\n",
       "[2344515 rows x 4 columns]"
      ]
     },
     "execution_count": 13,
     "metadata": {},
     "output_type": "execute_result"
    }
   ],
   "source": [
    "score_anime_selected"
   ]
  },
  {
   "attachments": {},
   "cell_type": "markdown",
   "metadata": {},
   "source": [
    "# Build trainset"
   ]
  },
  {
   "cell_type": "code",
   "execution_count": null,
   "metadata": {},
   "outputs": [],
   "source": [
    "ScoresDF[\"my_score\"].value_counts()"
   ]
  },
  {
   "cell_type": "code",
   "execution_count": null,
   "metadata": {},
   "outputs": [],
   "source": [
    "ScoresDF.shape"
   ]
  },
  {
   "cell_type": "code",
   "execution_count": null,
   "metadata": {},
   "outputs": [],
   "source": [
    "ScoresDF.head()"
   ]
  },
  {
   "cell_type": "code",
   "execution_count": null,
   "metadata": {},
   "outputs": [],
   "source": [
    "ScoresDF_selected= ScoresDF[ScoresDF[\"my_score\"]>0][[\"username\",\"anime_id\",\"my_score\",\"my_last_updated\"]]"
   ]
  },
  {
   "cell_type": "code",
   "execution_count": null,
   "metadata": {},
   "outputs": [],
   "source": [
    "ScoresDF_selected.shape"
   ]
  },
  {
   "cell_type": "code",
   "execution_count": null,
   "metadata": {},
   "outputs": [],
   "source": [
    "#small_fraction = 0.0001\n",
    "#ScoresDF_selected_small = ScoresDF_selected.sample(int(len(ScoresDF_selected)*small_fraction))\n",
    "#ScoresDF_selected_small.shape"
   ]
  },
  {
   "attachments": {},
   "cell_type": "markdown",
   "metadata": {},
   "source": [
    "# Transform dataframe to surprise trainset"
   ]
  },
  {
   "cell_type": "code",
   "execution_count": 9,
   "metadata": {},
   "outputs": [],
   "source": [
    "reader = Reader(rating_scale=(0, 10))\n",
    "scoredata = Dataset.load_from_df(score_anime_selected[['username', 'anime_id', 'my_score']], reader)\n",
    "trainset = scoredata.build_full_trainset()"
   ]
  },
  {
   "cell_type": "code",
   "execution_count": null,
   "metadata": {},
   "outputs": [],
   "source": [
    "print(trainset)"
   ]
  },
  {
   "attachments": {},
   "cell_type": "markdown",
   "metadata": {},
   "source": [
    "# Try KNNBasic"
   ]
  },
  {
   "cell_type": "code",
   "execution_count": 10,
   "metadata": {},
   "outputs": [
    {
     "name": "stdout",
     "output_type": "stream",
     "text": [
      "Computing the cosine similarity matrix...\n",
      "Done computing similarity matrix.\n",
      "Computing the cosine similarity matrix...\n",
      "Done computing similarity matrix.\n"
     ]
    }
   ],
   "source": [
    "knn_predictor = KNNBasic(sim_options={\n",
    "        'name': 'cosine',\n",
    "        'user_based': False\n",
    "        })\n",
    "        \n",
    "knn_predictor.fit(trainset)\n",
    "similarity_matrix_small = knn_predictor.compute_similarities()"
   ]
  },
  {
   "cell_type": "code",
   "execution_count": null,
   "metadata": {},
   "outputs": [],
   "source": [
    "similarity_matrix\n"
   ]
  },
  {
   "cell_type": "code",
   "execution_count": 11,
   "metadata": {},
   "outputs": [],
   "source": [
    "# save numpy array as npy file\n",
    "from numpy import asarray\n",
    "from numpy import save\n",
    "\n",
    "# save to npy file\n",
    "save('similarity_matrix_small.npy', similarity_matrix_small)"
   ]
  },
  {
   "attachments": {},
   "cell_type": "markdown",
   "metadata": {},
   "source": [
    "# Create Movie Dictionary "
   ]
  },
  {
   "cell_type": "code",
   "execution_count": null,
   "metadata": {},
   "outputs": [],
   "source": [
    "AnimesDF.head()"
   ]
  },
  {
   "cell_type": "code",
   "execution_count": null,
   "metadata": {},
   "outputs": [],
   "source": [
    "animeID_to_name = score_anime_selected.set_index('anime_id')['title'].to_dict()\n",
    "animeID_to_name"
   ]
  },
  {
   "attachments": {},
   "cell_type": "markdown",
   "metadata": {},
   "source": [
    "# Set variables"
   ]
  },
  {
   "cell_type": "code",
   "execution_count": null,
   "metadata": {},
   "outputs": [],
   "source": [
    "ScoresDF_selected.groupby(\"username\").agg({\"anime_id\":\"count\"}).describe()"
   ]
  },
  {
   "cell_type": "code",
   "execution_count": null,
   "metadata": {},
   "outputs": [],
   "source": [
    "#ScoresDF_selected.tail(15)\n",
    "ScoresDF[[\"username\",\"anime_id\",\"my_watched_episodes\", \"my_score\"]].tail(10)"
   ]
  },
  {
   "cell_type": "code",
   "execution_count": null,
   "metadata": {},
   "outputs": [],
   "source": [
    "# Pick a random user name.\n",
    "# Play around and see how the final recommendations change\n",
    "# depending on the user! 1-610\n",
    "test_subject = 'karthiga'\n",
    "\n",
    "# Get the top K items user rated\n",
    "k = 20"
   ]
  },
  {
   "cell_type": "code",
   "execution_count": null,
   "metadata": {},
   "outputs": [],
   "source": [
    "# When using Surprise, there are RAW and INNER IDs.\n",
    "# Raw IDs are the IDs, strings or numbers, you use when\n",
    "# creating the trainset. The raw ID will be converted to\n",
    "# an unique integer Surprise can more easily manipulate\n",
    "# for computations.\n",
    "#\n",
    "# So in order to find an user inside the trainset, you\n",
    "# need to convert their RAW ID to the INNER Id. Read\n",
    "# here for more info https://surprise.readthedocs.io/en/stable/FAQ.html#what-are-raw-and-inner-ids\n",
    "test_subject_iid = trainset.to_inner_uid(test_subject)\n",
    "test_subject_iid\n",
    "\n"
   ]
  },
  {
   "cell_type": "code",
   "execution_count": null,
   "metadata": {},
   "outputs": [],
   "source": [
    "test_subject_ratings = trainset.ur[test_subject_iid]\n",
    "test_subject_ratings"
   ]
  },
  {
   "cell_type": "code",
   "execution_count": null,
   "metadata": {},
   "outputs": [],
   "source": [
    "# Get the top K items we rated\n",
    "k_neighbors = heapq.nlargest(k, test_subject_ratings, key=lambda t: t[1])\n",
    "k_neighbors"
   ]
  },
  {
   "cell_type": "code",
   "execution_count": null,
   "metadata": {},
   "outputs": [],
   "source": []
  },
  {
   "cell_type": "code",
   "execution_count": null,
   "metadata": {},
   "outputs": [],
   "source": [
    "test_subject_iid"
   ]
  },
  {
   "cell_type": "code",
   "execution_count": null,
   "metadata": {},
   "outputs": [],
   "source": [
    "itemID_tmp =6\n",
    "rating_temp=10.0"
   ]
  },
  {
   "cell_type": "code",
   "execution_count": null,
   "metadata": {},
   "outputs": [],
   "source": [
    "similarity_matrix[itemID_tmp]"
   ]
  },
  {
   "cell_type": "code",
   "execution_count": null,
   "metadata": {},
   "outputs": [],
   "source": [
    "# Default dict is basically a standard dictionary,\n",
    "# the difference beeing that it doesn't throw an error\n",
    "# when trying to access a key which does not exist,\n",
    "# instead a new entry, with that key, is created.\n",
    "candidates = defaultdict(float)\n",
    "\n",
    "for itemID, rating in k_neighbors:\n",
    "    try:\n",
    "      similaritities = similarity_matrix[itemID]\n",
    "      for innerID, score in enumerate(similaritities):\n",
    "          candidates[innerID] += score * (rating / 5.0)\n",
    "    except:\n",
    "      continue\n",
    "  \n"
   ]
  },
  {
   "cell_type": "code",
   "execution_count": null,
   "metadata": {},
   "outputs": [],
   "source": [
    "candidates"
   ]
  },
  {
   "cell_type": "code",
   "execution_count": null,
   "metadata": {},
   "outputs": [],
   "source": [
    "similarity_matrix[1]"
   ]
  },
  {
   "cell_type": "code",
   "execution_count": null,
   "metadata": {},
   "outputs": [],
   "source": [
    "# Utility we'll use later.\n",
    "def getAnimeName(animeID):\n",
    "  if int(animeID) in animeID_to_name:\n",
    "    return animeID_to_name[int(animeID)]\n",
    "  else:\n",
    "      return \"\""
   ]
  },
  {
   "cell_type": "code",
   "execution_count": null,
   "metadata": {},
   "outputs": [],
   "source": [
    "getAnimeName(\"5231\")"
   ]
  },
  {
   "cell_type": "code",
   "execution_count": null,
   "metadata": {},
   "outputs": [],
   "source": [
    "# Build a dictionary of movies the user has watched\n",
    "watched = {}\n",
    "for itemID, rating in trainset.ur[test_subject_iid]:\n",
    "  watched[itemID] = 1\n",
    "\n",
    "# Add items to list of user's recommendations\n",
    "# If they are similar to their favorite movies,\n",
    "# AND have not already been watched.\n",
    "recommendations = []\n",
    "\n",
    "position = 0\n",
    "for itemID, rating_sum in sorted(candidates.items(), key=itemgetter(1), reverse=True):\n",
    "  if not itemID in watched:\n",
    "    recommendations.append(getAnimeName(trainset.to_raw_iid(itemID)))\n",
    "    position += 1\n",
    "    if (position > 10): break # We only want top 10\n",
    "\n",
    "for rec in recommendations:\n",
    "  print(\"Anime: \", rec)"
   ]
  },
  {
   "cell_type": "code",
   "execution_count": null,
   "metadata": {},
   "outputs": [],
   "source": [
    "watched"
   ]
  },
  {
   "cell_type": "code",
   "execution_count": null,
   "metadata": {},
   "outputs": [],
   "source": []
  }
 ],
 "metadata": {
  "kernelspec": {
   "display_name": "Python 3 (ipykernel)",
   "language": "python",
   "name": "python3"
  },
  "language_info": {
   "codemirror_mode": {
    "name": "ipython",
    "version": 3
   },
   "file_extension": ".py",
   "mimetype": "text/x-python",
   "name": "python",
   "nbconvert_exporter": "python",
   "pygments_lexer": "ipython3",
   "version": "3.10.6"
  },
  "toc": {
   "base_numbering": 1,
   "nav_menu": {},
   "number_sections": true,
   "sideBar": true,
   "skip_h1_title": false,
   "title_cell": "Table of Contents",
   "title_sidebar": "Contents",
   "toc_cell": false,
   "toc_position": {},
   "toc_section_display": true,
   "toc_window_display": false
  }
 },
 "nbformat": 4,
 "nbformat_minor": 2
}
