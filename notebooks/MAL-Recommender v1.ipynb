{
 "cells": [
  {
   "cell_type": "code",
   "execution_count": 1,
   "metadata": {},
   "outputs": [],
   "source": [
    "from collections import defaultdict\n",
    "import pandas as pd\n",
    "import numpy as np\n",
    "import scipy\n",
    "from scipy.sparse.linalg import svds\n",
    "import matplotlib.pyplot as plt\n",
    "import surprise as sp\n",
    "import time\n",
    "import pickle\n",
    "import os"
   ]
  },
  {
   "attachments": {},
   "cell_type": "markdown",
   "metadata": {},
   "source": [
    "# Data"
   ]
  },
  {
   "cell_type": "code",
   "execution_count": 19,
   "metadata": {},
   "outputs": [],
   "source": [
    "#Importing the CSVs to Dataframe format\n",
    "UsersDF = pd.read_csv('../raw_data/users_cleaned.csv')\n",
    "AnimesDF = pd.read_csv('../raw_data/anime_cleaned.csv')\n",
    "ScoresDF = pd.read_csv('../raw_data/animelists_cleaned.csv')"
   ]
  },
  {
   "cell_type": "code",
   "execution_count": 20,
   "metadata": {},
   "outputs": [],
   "source": [
    "#Since ScoresDF is a huge DF (2GB of data) I`ll only take the columns that are important for the recommendation system\n",
    "ScoresDF = ScoresDF[['username', 'anime_id', 'my_score', 'my_status']]"
   ]
  },
  {
   "cell_type": "code",
   "execution_count": 21,
   "metadata": {},
   "outputs": [
    {
     "name": "stdout",
     "output_type": "stream",
     "text": [
      "Range of ratings vary between: 0 to 10\n"
     ]
    }
   ],
   "source": [
    "#Analysing all the possible values for the score, this will be used as a parameter later on\n",
    "lower_rating = ScoresDF['my_score'].min()\n",
    "upper_rating = ScoresDF['my_score'].max()\n",
    "print('Range of ratings vary between: {0} to {1}'.format(lower_rating, upper_rating))"
   ]
  },
  {
   "cell_type": "code",
   "execution_count": 22,
   "metadata": {},
   "outputs": [],
   "source": [
    "#Counting how many relevant scores each user have done, resetting the index (so the series could become a DF again) and changing the column names\n",
    "UsersAndScores = ScoresDF['username'].value_counts().reset_index().rename(columns={\"username\": \"animes_rated\", \"index\": \"username\"})"
   ]
  },
  {
   "cell_type": "code",
   "execution_count": 23,
   "metadata": {},
   "outputs": [],
   "source": [
    "UsersSampled = UsersDF.sample(frac = 0.07)"
   ]
  },
  {
   "cell_type": "code",
   "execution_count": 24,
   "metadata": {},
   "outputs": [],
   "source": [
    "UsersAndScoresSampled = pd.merge(UsersAndScores, UsersSampled, left_on = 'username', right_on = 'username', how = 'inner')"
   ]
  },
  {
   "cell_type": "code",
   "execution_count": 25,
   "metadata": {},
   "outputs": [],
   "source": [
    "# Assuming you want to keep 'animes_rated_x' and drop 'animes_rated_y'\n",
    "UsersAndScoresSampled = UsersAndScoresSampled.rename(columns={'animes_rated_x': 'animes_rated'})\n",
    "\n",
    "# Drop the 'animes_rated_y' column\n",
    "UsersAndScoresSampled = UsersAndScoresSampled.drop(columns=['animes_rated_y'])\n"
   ]
  },
  {
   "cell_type": "code",
   "execution_count": 26,
   "metadata": {},
   "outputs": [],
   "source": [
    "#Grouping users whom had the same amount of animes ratedUserRatedsAggregated = UsersAndScoresSampled['animes_rated_x'].value_counts().reset_index().rename(columns={\"animes_rated_x\": \"group_size\", \"index\": \"animes_rated\"}).sort_values(by=['animes_rated'])\n",
    "UserRatedsAggregated = UsersAndScoresSampled['animes_rated'].value_counts().reset_index().rename(columns={\"animes_rated\": \"group_size\", \"index\": \"animes_rated\"}).sort_values(by=['animes_rated'])"
   ]
  },
  {
   "cell_type": "code",
   "execution_count": 27,
   "metadata": {},
   "outputs": [
    {
     "name": "stdout",
     "output_type": "stream",
     "text": [
      "Index(['username', 'animes_rated', 'anime_id', 'my_score', 'my_status',\n",
      "       'user_id', 'user_watching', 'user_completed', 'user_onhold',\n",
      "       'user_dropped', 'user_plantowatch', 'user_days_spent_watching',\n",
      "       'gender', 'location', 'birth_date', 'access_rank', 'join_date',\n",
      "       'last_online', 'stats_mean_score', 'stats_rewatched', 'stats_episodes',\n",
      "       'number_of_users'],\n",
      "      dtype='object')\n"
     ]
    }
   ],
   "source": [
    "\n",
    "print(UsersAndScoresSampled.columns)  # This will print all column names of the DataFrame\n"
   ]
  },
  {
   "cell_type": "code",
   "execution_count": 28,
   "metadata": {},
   "outputs": [],
   "source": [
    "#Counting how many relevant scores each anime has, resetting the index (so the series could become a DF again) and changing the column names\n",
    "RatedsPerAnime = ScoresDF['anime_id'].value_counts().reset_index().rename(columns={\"anime_id\": \"number_of_users\", \"index\": \"anime_id\"})"
   ]
  },
  {
   "cell_type": "code",
   "execution_count": 29,
   "metadata": {},
   "outputs": [],
   "source": [
    "#Grouping users whom had the same amount of animes rated\n",
    "AnimeRatedsAggregated = RatedsPerAnime['number_of_users'].value_counts().reset_index().rename(columns={\"number_of_users\": \"group_size\", \"index\": \"number_of_users\"}).sort_values(by=['number_of_users'])"
   ]
  },
  {
   "cell_type": "code",
   "execution_count": 30,
   "metadata": {},
   "outputs": [
    {
     "data": {
      "text/html": [
       "<div>\n",
       "<style scoped>\n",
       "    .dataframe tbody tr th:only-of-type {\n",
       "        vertical-align: middle;\n",
       "    }\n",
       "\n",
       "    .dataframe tbody tr th {\n",
       "        vertical-align: top;\n",
       "    }\n",
       "\n",
       "    .dataframe thead th {\n",
       "        text-align: right;\n",
       "    }\n",
       "</style>\n",
       "<table border=\"1\" class=\"dataframe\">\n",
       "  <thead>\n",
       "    <tr style=\"text-align: right;\">\n",
       "      <th></th>\n",
       "      <th>username</th>\n",
       "      <th>animes_rated</th>\n",
       "      <th>anime_id</th>\n",
       "      <th>my_score</th>\n",
       "      <th>my_status</th>\n",
       "      <th>user_id</th>\n",
       "      <th>user_watching</th>\n",
       "      <th>user_completed</th>\n",
       "      <th>user_onhold</th>\n",
       "      <th>user_dropped</th>\n",
       "      <th>...</th>\n",
       "      <th>gender</th>\n",
       "      <th>location</th>\n",
       "      <th>birth_date</th>\n",
       "      <th>access_rank</th>\n",
       "      <th>join_date</th>\n",
       "      <th>last_online</th>\n",
       "      <th>stats_mean_score</th>\n",
       "      <th>stats_rewatched</th>\n",
       "      <th>stats_episodes</th>\n",
       "      <th>number_of_users</th>\n",
       "    </tr>\n",
       "  </thead>\n",
       "  <tbody>\n",
       "    <tr>\n",
       "      <th>0</th>\n",
       "      <td>Exxorn</td>\n",
       "      <td>6536</td>\n",
       "      <td>28617</td>\n",
       "      <td>7</td>\n",
       "      <td>2</td>\n",
       "      <td>3979333</td>\n",
       "      <td>15</td>\n",
       "      <td>948</td>\n",
       "      <td>53</td>\n",
       "      <td>0</td>\n",
       "      <td>...</td>\n",
       "      <td>Male</td>\n",
       "      <td>Germany</td>\n",
       "      <td>1998-07-21 00:00:00</td>\n",
       "      <td>NaN</td>\n",
       "      <td>2014-07-31 00:00:00</td>\n",
       "      <td>2018-05-16 01:07:09</td>\n",
       "      <td>3.43</td>\n",
       "      <td>170.0</td>\n",
       "      <td>7735</td>\n",
       "      <td>10898</td>\n",
       "    </tr>\n",
       "    <tr>\n",
       "      <th>1</th>\n",
       "      <td>Exxorn</td>\n",
       "      <td>6536</td>\n",
       "      <td>18097</td>\n",
       "      <td>0</td>\n",
       "      <td>6</td>\n",
       "      <td>3979333</td>\n",
       "      <td>15</td>\n",
       "      <td>948</td>\n",
       "      <td>53</td>\n",
       "      <td>0</td>\n",
       "      <td>...</td>\n",
       "      <td>Male</td>\n",
       "      <td>Germany</td>\n",
       "      <td>1998-07-21 00:00:00</td>\n",
       "      <td>NaN</td>\n",
       "      <td>2014-07-31 00:00:00</td>\n",
       "      <td>2018-05-16 01:07:09</td>\n",
       "      <td>3.43</td>\n",
       "      <td>170.0</td>\n",
       "      <td>7735</td>\n",
       "      <td>978</td>\n",
       "    </tr>\n",
       "    <tr>\n",
       "      <th>2</th>\n",
       "      <td>Exxorn</td>\n",
       "      <td>6536</td>\n",
       "      <td>1126</td>\n",
       "      <td>0</td>\n",
       "      <td>6</td>\n",
       "      <td>3979333</td>\n",
       "      <td>15</td>\n",
       "      <td>948</td>\n",
       "      <td>53</td>\n",
       "      <td>0</td>\n",
       "      <td>...</td>\n",
       "      <td>Male</td>\n",
       "      <td>Germany</td>\n",
       "      <td>1998-07-21 00:00:00</td>\n",
       "      <td>NaN</td>\n",
       "      <td>2014-07-31 00:00:00</td>\n",
       "      <td>2018-05-16 01:07:09</td>\n",
       "      <td>3.43</td>\n",
       "      <td>170.0</td>\n",
       "      <td>7735</td>\n",
       "      <td>1539</td>\n",
       "    </tr>\n",
       "    <tr>\n",
       "      <th>3</th>\n",
       "      <td>Exxorn</td>\n",
       "      <td>6536</td>\n",
       "      <td>33026</td>\n",
       "      <td>0</td>\n",
       "      <td>6</td>\n",
       "      <td>3979333</td>\n",
       "      <td>15</td>\n",
       "      <td>948</td>\n",
       "      <td>53</td>\n",
       "      <td>0</td>\n",
       "      <td>...</td>\n",
       "      <td>Male</td>\n",
       "      <td>Germany</td>\n",
       "      <td>1998-07-21 00:00:00</td>\n",
       "      <td>NaN</td>\n",
       "      <td>2014-07-31 00:00:00</td>\n",
       "      <td>2018-05-16 01:07:09</td>\n",
       "      <td>3.43</td>\n",
       "      <td>170.0</td>\n",
       "      <td>7735</td>\n",
       "      <td>430</td>\n",
       "    </tr>\n",
       "    <tr>\n",
       "      <th>4</th>\n",
       "      <td>Exxorn</td>\n",
       "      <td>6536</td>\n",
       "      <td>24531</td>\n",
       "      <td>0</td>\n",
       "      <td>6</td>\n",
       "      <td>3979333</td>\n",
       "      <td>15</td>\n",
       "      <td>948</td>\n",
       "      <td>53</td>\n",
       "      <td>0</td>\n",
       "      <td>...</td>\n",
       "      <td>Male</td>\n",
       "      <td>Germany</td>\n",
       "      <td>1998-07-21 00:00:00</td>\n",
       "      <td>NaN</td>\n",
       "      <td>2014-07-31 00:00:00</td>\n",
       "      <td>2018-05-16 01:07:09</td>\n",
       "      <td>3.43</td>\n",
       "      <td>170.0</td>\n",
       "      <td>7735</td>\n",
       "      <td>1688</td>\n",
       "    </tr>\n",
       "    <tr>\n",
       "      <th>...</th>\n",
       "      <td>...</td>\n",
       "      <td>...</td>\n",
       "      <td>...</td>\n",
       "      <td>...</td>\n",
       "      <td>...</td>\n",
       "      <td>...</td>\n",
       "      <td>...</td>\n",
       "      <td>...</td>\n",
       "      <td>...</td>\n",
       "      <td>...</td>\n",
       "      <td>...</td>\n",
       "      <td>...</td>\n",
       "      <td>...</td>\n",
       "      <td>...</td>\n",
       "      <td>...</td>\n",
       "      <td>...</td>\n",
       "      <td>...</td>\n",
       "      <td>...</td>\n",
       "      <td>...</td>\n",
       "      <td>...</td>\n",
       "      <td>...</td>\n",
       "    </tr>\n",
       "    <tr>\n",
       "      <th>2184438</th>\n",
       "      <td>schiiz0phrenia</td>\n",
       "      <td>20</td>\n",
       "      <td>4898</td>\n",
       "      <td>0</td>\n",
       "      <td>2</td>\n",
       "      <td>483569</td>\n",
       "      <td>0</td>\n",
       "      <td>15</td>\n",
       "      <td>1</td>\n",
       "      <td>0</td>\n",
       "      <td>...</td>\n",
       "      <td>Female</td>\n",
       "      <td>Washington~</td>\n",
       "      <td>1989-07-02 00:00:00</td>\n",
       "      <td>NaN</td>\n",
       "      <td>2011-05-06 00:00:00</td>\n",
       "      <td>2011-11-19 17:16:00</td>\n",
       "      <td>9.00</td>\n",
       "      <td>5.0</td>\n",
       "      <td>446</td>\n",
       "      <td>43956</td>\n",
       "    </tr>\n",
       "    <tr>\n",
       "      <th>2184439</th>\n",
       "      <td>schiiz0phrenia</td>\n",
       "      <td>20</td>\n",
       "      <td>12049</td>\n",
       "      <td>0</td>\n",
       "      <td>6</td>\n",
       "      <td>483569</td>\n",
       "      <td>0</td>\n",
       "      <td>15</td>\n",
       "      <td>1</td>\n",
       "      <td>0</td>\n",
       "      <td>...</td>\n",
       "      <td>Female</td>\n",
       "      <td>Washington~</td>\n",
       "      <td>1989-07-02 00:00:00</td>\n",
       "      <td>NaN</td>\n",
       "      <td>2011-05-06 00:00:00</td>\n",
       "      <td>2011-11-19 17:16:00</td>\n",
       "      <td>9.00</td>\n",
       "      <td>5.0</td>\n",
       "      <td>446</td>\n",
       "      <td>10476</td>\n",
       "    </tr>\n",
       "    <tr>\n",
       "      <th>2184440</th>\n",
       "      <td>schiiz0phrenia</td>\n",
       "      <td>20</td>\n",
       "      <td>849</td>\n",
       "      <td>0</td>\n",
       "      <td>6</td>\n",
       "      <td>483569</td>\n",
       "      <td>0</td>\n",
       "      <td>15</td>\n",
       "      <td>1</td>\n",
       "      <td>0</td>\n",
       "      <td>...</td>\n",
       "      <td>Female</td>\n",
       "      <td>Washington~</td>\n",
       "      <td>1989-07-02 00:00:00</td>\n",
       "      <td>NaN</td>\n",
       "      <td>2011-05-06 00:00:00</td>\n",
       "      <td>2011-11-19 17:16:00</td>\n",
       "      <td>9.00</td>\n",
       "      <td>5.0</td>\n",
       "      <td>446</td>\n",
       "      <td>56787</td>\n",
       "    </tr>\n",
       "    <tr>\n",
       "      <th>2184441</th>\n",
       "      <td>schiiz0phrenia</td>\n",
       "      <td>20</td>\n",
       "      <td>5680</td>\n",
       "      <td>0</td>\n",
       "      <td>2</td>\n",
       "      <td>483569</td>\n",
       "      <td>0</td>\n",
       "      <td>15</td>\n",
       "      <td>1</td>\n",
       "      <td>0</td>\n",
       "      <td>...</td>\n",
       "      <td>Female</td>\n",
       "      <td>Washington~</td>\n",
       "      <td>1989-07-02 00:00:00</td>\n",
       "      <td>NaN</td>\n",
       "      <td>2011-05-06 00:00:00</td>\n",
       "      <td>2011-11-19 17:16:00</td>\n",
       "      <td>9.00</td>\n",
       "      <td>5.0</td>\n",
       "      <td>446</td>\n",
       "      <td>47743</td>\n",
       "    </tr>\n",
       "    <tr>\n",
       "      <th>2184442</th>\n",
       "      <td>pindu-k</td>\n",
       "      <td>20</td>\n",
       "      <td>2116</td>\n",
       "      <td>6</td>\n",
       "      <td>3</td>\n",
       "      <td>106677</td>\n",
       "      <td>3</td>\n",
       "      <td>13</td>\n",
       "      <td>5</td>\n",
       "      <td>0</td>\n",
       "      <td>...</td>\n",
       "      <td>Male</td>\n",
       "      <td>Parana</td>\n",
       "      <td>1985-09-01 00:00:00</td>\n",
       "      <td>NaN</td>\n",
       "      <td>2008-10-19 00:00:00</td>\n",
       "      <td>2012-10-28 09:13:00</td>\n",
       "      <td>7.33</td>\n",
       "      <td>0.0</td>\n",
       "      <td>1192</td>\n",
       "      <td>6043</td>\n",
       "    </tr>\n",
       "  </tbody>\n",
       "</table>\n",
       "<p>2184443 rows × 22 columns</p>\n",
       "</div>"
      ],
      "text/plain": [
       "               username  animes_rated  anime_id  my_score  my_status  user_id  \\\n",
       "0                Exxorn          6536     28617         7          2  3979333   \n",
       "1                Exxorn          6536     18097         0          6  3979333   \n",
       "2                Exxorn          6536      1126         0          6  3979333   \n",
       "3                Exxorn          6536     33026         0          6  3979333   \n",
       "4                Exxorn          6536     24531         0          6  3979333   \n",
       "...                 ...           ...       ...       ...        ...      ...   \n",
       "2184438  schiiz0phrenia            20      4898         0          2   483569   \n",
       "2184439  schiiz0phrenia            20     12049         0          6   483569   \n",
       "2184440  schiiz0phrenia            20       849         0          6   483569   \n",
       "2184441  schiiz0phrenia            20      5680         0          2   483569   \n",
       "2184442         pindu-k            20      2116         6          3   106677   \n",
       "\n",
       "         user_watching  user_completed  user_onhold  user_dropped  ...  \\\n",
       "0                   15             948           53             0  ...   \n",
       "1                   15             948           53             0  ...   \n",
       "2                   15             948           53             0  ...   \n",
       "3                   15             948           53             0  ...   \n",
       "4                   15             948           53             0  ...   \n",
       "...                ...             ...          ...           ...  ...   \n",
       "2184438              0              15            1             0  ...   \n",
       "2184439              0              15            1             0  ...   \n",
       "2184440              0              15            1             0  ...   \n",
       "2184441              0              15            1             0  ...   \n",
       "2184442              3              13            5             0  ...   \n",
       "\n",
       "         gender     location           birth_date access_rank  \\\n",
       "0          Male      Germany  1998-07-21 00:00:00         NaN   \n",
       "1          Male      Germany  1998-07-21 00:00:00         NaN   \n",
       "2          Male      Germany  1998-07-21 00:00:00         NaN   \n",
       "3          Male      Germany  1998-07-21 00:00:00         NaN   \n",
       "4          Male      Germany  1998-07-21 00:00:00         NaN   \n",
       "...         ...          ...                  ...         ...   \n",
       "2184438  Female  Washington~  1989-07-02 00:00:00         NaN   \n",
       "2184439  Female  Washington~  1989-07-02 00:00:00         NaN   \n",
       "2184440  Female  Washington~  1989-07-02 00:00:00         NaN   \n",
       "2184441  Female  Washington~  1989-07-02 00:00:00         NaN   \n",
       "2184442    Male       Parana  1985-09-01 00:00:00         NaN   \n",
       "\n",
       "                   join_date          last_online stats_mean_score  \\\n",
       "0        2014-07-31 00:00:00  2018-05-16 01:07:09             3.43   \n",
       "1        2014-07-31 00:00:00  2018-05-16 01:07:09             3.43   \n",
       "2        2014-07-31 00:00:00  2018-05-16 01:07:09             3.43   \n",
       "3        2014-07-31 00:00:00  2018-05-16 01:07:09             3.43   \n",
       "4        2014-07-31 00:00:00  2018-05-16 01:07:09             3.43   \n",
       "...                      ...                  ...              ...   \n",
       "2184438  2011-05-06 00:00:00  2011-11-19 17:16:00             9.00   \n",
       "2184439  2011-05-06 00:00:00  2011-11-19 17:16:00             9.00   \n",
       "2184440  2011-05-06 00:00:00  2011-11-19 17:16:00             9.00   \n",
       "2184441  2011-05-06 00:00:00  2011-11-19 17:16:00             9.00   \n",
       "2184442  2008-10-19 00:00:00  2012-10-28 09:13:00             7.33   \n",
       "\n",
       "        stats_rewatched  stats_episodes  number_of_users  \n",
       "0                 170.0            7735            10898  \n",
       "1                 170.0            7735              978  \n",
       "2                 170.0            7735             1539  \n",
       "3                 170.0            7735              430  \n",
       "4                 170.0            7735             1688  \n",
       "...                 ...             ...              ...  \n",
       "2184438             5.0             446            43956  \n",
       "2184439             5.0             446            10476  \n",
       "2184440             5.0             446            56787  \n",
       "2184441             5.0             446            47743  \n",
       "2184442             0.0            1192             6043  \n",
       "\n",
       "[2184443 rows x 22 columns]"
      ]
     },
     "execution_count": 30,
     "metadata": {},
     "output_type": "execute_result"
    }
   ],
   "source": [
    "UsersAndScoresSampled[UsersAndScoresSampled['animes_rated'] >= 20]"
   ]
  },
  {
   "cell_type": "code",
   "execution_count": 44,
   "metadata": {},
   "outputs": [],
   "source": [
    "\n",
    "# Filter users and animes with more than 10 interactions before merging\n",
    "UsersAndScoresSampled = UsersAndScoresSampled[UsersAndScoresSampled['animes_rated'] >= 1000]\n",
    "RatedsPerAnime = RatedsPerAnime[RatedsPerAnime['number_of_users'] >= 10000]\n",
    "\n",
    "# Create a list of valid usernames and anime_ids\n",
    "valid_usernames = UsersAndScoresSampled['username'].unique()\n",
    "valid_anime_ids = RatedsPerAnime['anime_id'].unique()\n",
    "\n",
    "# Filter the ScoresDF before merging\n",
    "ScoresDF = ScoresDF[ScoresDF['username'].isin(valid_usernames)]\n",
    "ScoresDF = ScoresDF[ScoresDF['anime_id'].isin(valid_anime_ids)]\n",
    "\n",
    "# No need to merge anymore, as we've already filtered the ScoresDF\n",
    "ScoresDFHotStart = ScoresDF\n"
   ]
  },
  {
   "cell_type": "code",
   "execution_count": 40,
   "metadata": {},
   "outputs": [],
   "source": [
    "# #Creating a dataframe of users  and animes with more than 10 interactions\n",
    "# UserRatedsCutten = UsersAndScoresSampled[UsersAndScoresSampled['animes_rated'] >= 20]\n",
    "# AnimeRatedsCutten = RatedsPerAnime[RatedsPerAnime['number_of_users'] >= 20]\n",
    "# #Joining (merging) our new dataframes with the interactions one (this will already deal with the sample problem,\n",
    "# #as it is an inner join). The \"HotStart\" name comes from a pun about solving the \"Cold Start\" issue\n",
    "# ScoresDFHotStart = pd.merge(ScoresDF, UserRatedsCutten, left_on = 'username', right_on = 'username', how = 'inner')\n",
    "# ScoresDFHotStart = pd.merge(ScoresDFHotStart, AnimeRatedsCutten, left_on = 'anime_id', right_on = 'anime_id', how = 'inner')"
   ]
  },
  {
   "cell_type": "code",
   "execution_count": 45,
   "metadata": {},
   "outputs": [
    {
     "data": {
      "text/plain": [
       "(2125486, 4)"
      ]
     },
     "execution_count": 45,
     "metadata": {},
     "output_type": "execute_result"
    }
   ],
   "source": [
    "ScoresDFHotStart.shape"
   ]
  },
  {
   "cell_type": "code",
   "execution_count": 34,
   "metadata": {},
   "outputs": [
    {
     "name": "stdout",
     "output_type": "stream",
     "text": [
      "Data processing completed.\n"
     ]
    }
   ],
   "source": [
    "ScoresDFHotStart.to_csv(\"ScoresDFHotStart-small.csv\", index = False)\n",
    "print(\"Data processing completed.\")"
   ]
  },
  {
   "cell_type": "code",
   "execution_count": 46,
   "metadata": {},
   "outputs": [
    {
     "data": {
      "text/html": [
       "<div>\n",
       "<style scoped>\n",
       "    .dataframe tbody tr th:only-of-type {\n",
       "        vertical-align: middle;\n",
       "    }\n",
       "\n",
       "    .dataframe tbody tr th {\n",
       "        vertical-align: top;\n",
       "    }\n",
       "\n",
       "    .dataframe thead th {\n",
       "        text-align: right;\n",
       "    }\n",
       "</style>\n",
       "<table border=\"1\" class=\"dataframe\">\n",
       "  <thead>\n",
       "    <tr style=\"text-align: right;\">\n",
       "      <th></th>\n",
       "      <th>username</th>\n",
       "      <th>anime_id</th>\n",
       "      <th>my_score</th>\n",
       "      <th>my_status</th>\n",
       "    </tr>\n",
       "  </thead>\n",
       "  <tbody>\n",
       "    <tr>\n",
       "      <th>1200</th>\n",
       "      <td>MistButterfly</td>\n",
       "      <td>21</td>\n",
       "      <td>0</td>\n",
       "      <td>1</td>\n",
       "    </tr>\n",
       "    <tr>\n",
       "      <th>1201</th>\n",
       "      <td>MistButterfly</td>\n",
       "      <td>59</td>\n",
       "      <td>6</td>\n",
       "      <td>2</td>\n",
       "    </tr>\n",
       "    <tr>\n",
       "      <th>1203</th>\n",
       "      <td>MistButterfly</td>\n",
       "      <td>120</td>\n",
       "      <td>8</td>\n",
       "      <td>2</td>\n",
       "    </tr>\n",
       "    <tr>\n",
       "      <th>1205</th>\n",
       "      <td>MistButterfly</td>\n",
       "      <td>210</td>\n",
       "      <td>7</td>\n",
       "      <td>2</td>\n",
       "    </tr>\n",
       "    <tr>\n",
       "      <th>1206</th>\n",
       "      <td>MistButterfly</td>\n",
       "      <td>232</td>\n",
       "      <td>9</td>\n",
       "      <td>2</td>\n",
       "    </tr>\n",
       "    <tr>\n",
       "      <th>...</th>\n",
       "      <td>...</td>\n",
       "      <td>...</td>\n",
       "      <td>...</td>\n",
       "      <td>...</td>\n",
       "    </tr>\n",
       "    <tr>\n",
       "      <th>31055152</th>\n",
       "      <td>Montinihabato13</td>\n",
       "      <td>33988</td>\n",
       "      <td>0</td>\n",
       "      <td>1</td>\n",
       "    </tr>\n",
       "    <tr>\n",
       "      <th>31055159</th>\n",
       "      <td>Montinihabato13</td>\n",
       "      <td>34240</td>\n",
       "      <td>8</td>\n",
       "      <td>2</td>\n",
       "    </tr>\n",
       "    <tr>\n",
       "      <th>31055171</th>\n",
       "      <td>Montinihabato13</td>\n",
       "      <td>34561</td>\n",
       "      <td>0</td>\n",
       "      <td>1</td>\n",
       "    </tr>\n",
       "    <tr>\n",
       "      <th>31055174</th>\n",
       "      <td>Montinihabato13</td>\n",
       "      <td>34618</td>\n",
       "      <td>7</td>\n",
       "      <td>2</td>\n",
       "    </tr>\n",
       "    <tr>\n",
       "      <th>31055202</th>\n",
       "      <td>Montinihabato13</td>\n",
       "      <td>36038</td>\n",
       "      <td>7</td>\n",
       "      <td>2</td>\n",
       "    </tr>\n",
       "  </tbody>\n",
       "</table>\n",
       "<p>2125486 rows × 4 columns</p>\n",
       "</div>"
      ],
      "text/plain": [
       "                 username  anime_id  my_score  my_status\n",
       "1200        MistButterfly        21         0          1\n",
       "1201        MistButterfly        59         6          2\n",
       "1203        MistButterfly       120         8          2\n",
       "1205        MistButterfly       210         7          2\n",
       "1206        MistButterfly       232         9          2\n",
       "...                   ...       ...       ...        ...\n",
       "31055152  Montinihabato13     33988         0          1\n",
       "31055159  Montinihabato13     34240         8          2\n",
       "31055171  Montinihabato13     34561         0          1\n",
       "31055174  Montinihabato13     34618         7          2\n",
       "31055202  Montinihabato13     36038         7          2\n",
       "\n",
       "[2125486 rows x 4 columns]"
      ]
     },
     "execution_count": 46,
     "metadata": {},
     "output_type": "execute_result"
    }
   ],
   "source": [
    "ScoresDFHotStart"
   ]
  },
  {
   "attachments": {},
   "cell_type": "markdown",
   "metadata": {},
   "source": [
    "# Training, testing and results structure\n"
   ]
  },
  {
   "cell_type": "code",
   "execution_count": 48,
   "metadata": {},
   "outputs": [],
   "source": [
    "#random_state = 42\n",
    "reader = sp.Reader(rating_scale=(0, 10))\n",
    "data = sp.Dataset.load_from_df(ScoresDFHotStart[['username', 'anime_id', 'my_score']], reader)\n",
    "trainset, testset = sp.model_selection.train_test_split(data, test_size=.25)\n",
    "analysis = defaultdict(list)"
   ]
  },
  {
   "cell_type": "code",
   "execution_count": 44,
   "metadata": {},
   "outputs": [],
   "source": [
    "# als_param_grid = {'bsl_options': {'method': ['als'],\n",
    "#                               'reg_i': [3,5],\n",
    "#                               'reg_u': [10],\n",
    "#                               'n_epochs': [20,25,30]\n",
    "#                               }\n",
    "#               }\n",
    "\n",
    "# sgd_param_grid = {'bsl_options': {'method': ['sgd'],\n",
    "#                               'reg': [0.005,0.01,0.015],\n",
    "#                               'n_epochs': [20,25,30],\n",
    "#                               'learning_rate' : [0.005]\n",
    "#                               }\n",
    "#               }\n",
    "\n",
    "# als_gs = sp.model_selection.GridSearchCV(sp.BaselineOnly, als_param_grid, measures=['rmse'], cv = 3, joblib_verbose = 0)\n",
    "\n",
    "# sgd_gs = sp.model_selection.GridSearchCV(sp.BaselineOnly, sgd_param_grid, measures=['rmse'], cv = 3, joblib_verbose = 0)"
   ]
  },
  {
   "cell_type": "code",
   "execution_count": 45,
   "metadata": {},
   "outputs": [],
   "source": [
    "# als_gs.fit(data)\n",
    "# print(\"Best RMSE score for ALS: \", als_gs.best_score['rmse'])\n",
    "# print(\"Best parameters for ALS: \", als_gs.best_params['rmse'])"
   ]
  },
  {
   "cell_type": "code",
   "execution_count": 46,
   "metadata": {},
   "outputs": [],
   "source": [
    "# sgd_gs.fit(data)\n",
    "# # For SGD\n",
    "# print(\"Best RMSE score for SGD: \", sgd_gs.best_score['rmse'])\n",
    "# print(\"Best parameters for SGD: \", sgd_gs.best_params['rmse'])"
   ]
  },
  {
   "cell_type": "code",
   "execution_count": 49,
   "metadata": {},
   "outputs": [
    {
     "name": "stdout",
     "output_type": "stream",
     "text": [
      "Estimating biases using als...\n",
      "CPU times: user 15.5 s, sys: 182 ms, total: 15.7 s\n",
      "Wall time: 15.8 s\n"
     ]
    }
   ],
   "source": [
    "%%time\n",
    "trainset = data.build_full_trainset()\n",
    "algo = sp.BaselineOnly()\n",
    "algo.fit(trainset)\n",
    "testset = trainset.build_anti_testset()\n",
    "predictions = algo.test(testset)\n",
    "\n",
    "last_predictions = pd.DataFrame(predictions, columns=['uid', 'iid', 'rui', 'est', 'details'])\n",
    "last_predictions.drop('rui', inplace = True, axis = 1)"
   ]
  },
  {
   "cell_type": "code",
   "execution_count": 50,
   "metadata": {},
   "outputs": [
    {
     "name": "stdout",
     "output_type": "stream",
     "text": [
      "Estimating biases using als...\n",
      "Computing the pearson_baseline similarity matrix...\n",
      "Done computing similarity matrix.\n",
      "CPU times: user 27 s, sys: 127 ms, total: 27.2 s\n",
      "Wall time: 27.2 s\n"
     ]
    },
    {
     "data": {
      "text/plain": [
       "<surprise.prediction_algorithms.knns.KNNBaseline at 0x31b10bac0>"
      ]
     },
     "execution_count": 50,
     "metadata": {},
     "output_type": "execute_result"
    }
   ],
   "source": [
    "%%time\n",
    "sim_options = {'name': 'pearson_baseline', 'user_based': False}\n",
    "algo_items = sp.KNNBaseline(sim_options=sim_options)\n",
    "algo_items.fit(trainset)"
   ]
  },
  {
   "cell_type": "code",
   "execution_count": 51,
   "metadata": {},
   "outputs": [],
   "source": [
    "def get_item_recommendations(algo ,algo_items,anime_title, anime_id=100000, k=10):\n",
    "    if anime_id == 100000:     \n",
    "        anime_id = AnimesDF[AnimesDF['title'] == anime_title]['anime_id'].iloc[0]\n",
    "        \n",
    "    iid = algo_items.trainset.to_inner_iid(anime_id)\n",
    "    neighbors = algo_items.get_neighbors(iid, k=k)\n",
    "    raw_neighbors = (algo.trainset.to_raw_iid(inner_id) for inner_id in neighbors)\n",
    "    df = pd.DataFrame(raw_neighbors, columns = ['Anime_ID'])\n",
    "    df = pd.merge(df, AnimesDF, left_on = 'Anime_ID', right_on = 'anime_id', how = 'left')\n",
    "    return df[['Anime_ID', 'title', 'genre']]"
   ]
  },
  {
   "cell_type": "code",
   "execution_count": 52,
   "metadata": {
    "scrolled": true
   },
   "outputs": [
    {
     "ename": "TypeError",
     "evalue": "get_item_recommendations() missing 1 required positional argument: 'anime_title'",
     "output_type": "error",
     "traceback": [
      "\u001b[0;31m---------------------------------------------------------------------------\u001b[0m",
      "\u001b[0;31mTypeError\u001b[0m                                 Traceback (most recent call last)",
      "Cell \u001b[0;32mIn[52], line 1\u001b[0m\n\u001b[0;32m----> 1\u001b[0m get_item_recommendations(\u001b[39m'\u001b[39;49m\u001b[39mPokemon\u001b[39;49m\u001b[39m'\u001b[39;49m, k\u001b[39m=\u001b[39;49m\u001b[39m10\u001b[39;49m)\n",
      "\u001b[0;31mTypeError\u001b[0m: get_item_recommendations() missing 1 required positional argument: 'anime_title'"
     ]
    }
   ],
   "source": [
    "get_item_recommendations('Pokemon', k=10)"
   ]
  },
  {
   "cell_type": "code",
   "execution_count": null,
   "metadata": {},
   "outputs": [],
   "source": [
    "# Save the model to a file\n",
    "with open('model.pickle', 'wb') as f:\n",
    "    pickle.dump(algo, f)\n",
    "\n",
    "# Save the KNNBaseline model\n",
    "with open('knn_model.pickle', 'wb') as f:\n",
    "    pickle.dump(algo_items, f)\n"
   ]
  },
  {
   "cell_type": "code",
   "execution_count": null,
   "metadata": {},
   "outputs": [],
   "source": [
    "# Load the model from a file\n",
    "with open('model.pickle', 'rb') as f:\n",
    "    loaded_model = pickle.load(f)\n",
    "\n",
    "# Load the KNNBaseline model\n",
    "with open('knn_model.pickle', 'rb') as f:\n",
    "    loaded_knn_model = pickle.load(f)\n"
   ]
  },
  {
   "cell_type": "code",
   "execution_count": null,
   "metadata": {},
   "outputs": [],
   "source": [
    "algo_items = loaded_knn_model\n",
    "\n"
   ]
  },
  {
   "cell_type": "code",
   "execution_count": null,
   "metadata": {},
   "outputs": [],
   "source": [
    "get_item_recommendations(loaded_knn_model,'Pokemon', k=10)"
   ]
  },
  {
   "cell_type": "code",
   "execution_count": null,
   "metadata": {},
   "outputs": [],
   "source": []
  }
 ],
 "metadata": {
  "kernelspec": {
   "display_name": "Python 3 (ipykernel)",
   "language": "python",
   "name": "python3"
  },
  "language_info": {
   "codemirror_mode": {
    "name": "ipython",
    "version": 3
   },
   "file_extension": ".py",
   "mimetype": "text/x-python",
   "name": "python",
   "nbconvert_exporter": "python",
   "pygments_lexer": "ipython3",
   "version": "3.10.6"
  },
  "toc": {
   "base_numbering": 1,
   "nav_menu": {},
   "number_sections": true,
   "sideBar": true,
   "skip_h1_title": false,
   "title_cell": "Table of Contents",
   "title_sidebar": "Contents",
   "toc_cell": false,
   "toc_position": {},
   "toc_section_display": true,
   "toc_window_display": false
  }
 },
 "nbformat": 4,
 "nbformat_minor": 4
}
